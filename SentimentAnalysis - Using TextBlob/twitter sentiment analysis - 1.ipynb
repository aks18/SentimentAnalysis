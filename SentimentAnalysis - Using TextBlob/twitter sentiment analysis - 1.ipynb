{
 "cells": [
  {
   "cell_type": "code",
   "execution_count": 9,
   "metadata": {},
   "outputs": [],
   "source": [
    "import re #library for RegEx operations\n",
    "import tweepy #library for interacting with Twitter\n",
    "from tweepy import OAuthHandler\n",
    "from textblob import TextBlob #Library for sentiment analysis"
   ]
  },
  {
   "cell_type": "code",
   "execution_count": 30,
   "metadata": {},
   "outputs": [],
   "source": [
    "#Class for sentiment analysis\n",
    "class ClientConnector(object):\n",
    "    \n",
    "    #Function 1 - #Initialization method, can also consider it as a Constructor\n",
    "    def __init__(self):\n",
    "        #Keys obtained from Twitter\n",
    "        consumer_apis = \"Zz8r9wTNoroU47BvboTe4UWeM\"\n",
    "        consumer_secret = \"wIUwf7Kfp4f22nJvfOjH1HDCml4BPmAXIVKTOzV3HAt91ZzPWK\"\n",
    "        access_token = \"1023533182933655552-HtjXvqQt2uCuJc6jHoTzxwOEfSxBNq\"\n",
    "        access_secret = \"KguhgyJWHeaVhxgzFPqyyZHBvI09DcahZ5emT7inLKSvx\"\n",
    "        \n",
    "        #Attempting authorization to twitter\n",
    "        try:\n",
    "            self.authorization = OAuthHandler(consumer_key=consumer_apis, consumer_secret=consumer_secret)\n",
    "            self.authorization.set_access_token(access_token, access_secret)\n",
    "            self.API = tweepy.API(self.authorization)\n",
    "        except:\n",
    "            print(\"ERROR : Authentication Failed!\")\n",
    "    \n",
    "    #Function 2 - Cleaning up the tweet\n",
    "    def clean_the_tweets(self, one_tweet):\n",
    "        #Defining the regex to clean the tweet\n",
    "        to_strip_regex = re.compile(r\"\"\"\n",
    "        (@\\w+) |        #regex to get rid of @somename\n",
    "        ([^\\w]) |       #regex to get rid of non-alphanumeric characters\n",
    "        (\\w+://\\S+)     #regex to get rid of links - https://-----\n",
    "        \"\"\", re.VERBOSE)\n",
    "        #Replacing the tweet with the help of the regex\n",
    "        replaced_tweet = to_strip_regex.sub(\" \", one_tweet)\n",
    "        #Finally, cleaned up tweet, removing extra whitespaces\n",
    "        cleaned_tweet = \" \".join(replaced_tweet.split())\n",
    "        return cleaned_tweet\n",
    "    \n",
    "    #Function 3 - Find the sentiment using the textblob library\n",
    "    def get_sentiment(self, tweet):\n",
    "        #Cleaning the tweets\n",
    "        cleaned_tweet = self.clean_the_tweets(tweet)\n",
    "        #Finding the sentiments using the Textblob Class\n",
    "        polarity_of_tweet = TextBlob(cleaned_tweet)\n",
    "        if polarity_of_tweet.sentiment.polarity > 0:\n",
    "            return 1\n",
    "        elif polarity_of_tweet.sentiment.polarity == 0:\n",
    "            return 0\n",
    "        else:\n",
    "            return -1\n",
    "    \n",
    "    #Function 4 - \n",
    "    def fetch_tweets(self, topicOfSearch, numOfTweets = 10):\n",
    "        tweets = [] #defining a list to store the fetched tweets\n",
    "        try:\n",
    "            fetchedTweets = self.API.search(q = topicOfSearch, count = numOfTweets)\n",
    "            for tweet in fetchedTweets:\n",
    "                parsedTweet = {} #defining a dictionary to store the body of the tweet and its sentiment\n",
    "                parsedTweet['body'] = tweet.text #storing the body of the tweet\n",
    "                parsedTweet['sentiment'] = self.get_sentiment(tweet.text) #storing the text of the tweet\n",
    "                \n",
    "                #Adding the tweet to the list\n",
    "                if tweet.retweet_count > 0: #if the tweet is retweeted, add only once\n",
    "                    if parsedTweet not in tweets:\n",
    "                        tweets.append(parsedTweet)\n",
    "                else:\n",
    "                    tweets.append(parsedTweet)\n",
    "            \n",
    "            return tweets #returning cleaned & parsed tweets with sentiment\n",
    "        #Printing error if any\n",
    "        except tweepy.TweepError as err:\n",
    "            print(\"ERROR: \" + str(err)) \n",
    "    "
   ]
  },
  {
   "cell_type": "code",
   "execution_count": 39,
   "metadata": {},
   "outputs": [],
   "source": [
    "def main():\n",
    "    API = ClientConnector() #object of the client connector\n",
    "    topic = \"salman khan\"\n",
    "    count = 1000\n",
    "    #Fetching the tweets\n",
    "    fetched_tweets = API.fetch_tweets(topicOfSearch=topic, numOfTweets=count)\n",
    "    #Finding the number of positive & negative tweets & neutral\n",
    "    positive_tweets = [tweet for tweet in fetched_tweets if tweet['sentiment'] == 1]\n",
    "    negative_tweets = [tweet for tweet in fetched_tweets if tweet['sentiment'] == -1]\n",
    "    neutral_tweets = [tweet for tweet in fetched_tweets if tweet['sentiment'] == 0]\n",
    "    #Finding percentage of each kind of tweet\n",
    "    positivePercent = 100*len(positive_tweets)/len(fetched_tweets)\n",
    "    negativePercent = 100*len(negative_tweets)/len(fetched_tweets)\n",
    "    neutralPercent = 100*len(neutral_tweets)/len(fetched_tweets)\n",
    "    #Printing Percentages\n",
    "    print(\"Percentage of Positive Tweet = {:0.2f}%\".format(positivePercent))\n",
    "    print(\"Percentage of Negative Tweet = {:0.2f}%\".format(negativePercent))\n",
    "    print(\"Percentage of Neutral Tweet = {:.2f}%\".format(neutralPercent))\n",
    "    #Printing some tweets\n",
    "    print(\"\\n\\t\\tPositive Tweets\")\n",
    "    for i in range(10): #only printing first 10\n",
    "        print(str(i+1) + \"\\t: \" + positive_tweets[i]['body'])\n",
    "    print(\"\\n\\t\\tNegative Tweets\")\n",
    "    for i in range(10): #only printing first 10\n",
    "        print(str(i+1) + \"\\t: \" + negative_tweets[i]['body'])\n",
    "    print(\"\\n\\t\\tNeutral Tweets\")\n",
    "    for i in range(10): #only printing first 10\n",
    "        print(str(i+1) + \"\\t: \" + neutral_tweets[i]['body'])"
   ]
  },
  {
   "cell_type": "code",
   "execution_count": 40,
   "metadata": {},
   "outputs": [
    {
     "name": "stdout",
     "output_type": "stream",
     "text": [
      "Percentage of Positive Tweet = 35.62%\n",
      "Percentage of Negative Tweet = 9.59%\n",
      "Percentage of Neutral Tweet = 54.79%\n",
      "\n",
      "\t\tPositive Tweets\n",
      "1\t: RT @bharatpeindia: Welcoming superstar, Salman Khan to the BharatPe Family. Here’s to only the beginning of great things to happen :) \n",
      "#Sal…\n",
      "2\t: Source: \"#SalmanKhan and Sajid are constantly in touch—the discussion is mostly about #Kick2. Both of them are extr… https://t.co/GC2eqblRfT\n",
      "3\t: @HimeshMankad @BeingSalmanKhan @WardaNadiadwala @NGEMovies @priyalgala best Salman Khan look this decade was in Kick 👌\n",
      "4\t: RT @hashim_i: IK: \"Bata Zulfi inko\"\n",
      "\n",
      "Zulfi: \"Meri aik taang nakli hai main hockey ka bohat bara khilari tha aik din Khan sb ko meri kisi ba…\n",
      "5\t: Salman Khan, MS Dhoni and Narendra Modi have a unique resemblances that all of them doesn't deserve their respectiv… https://t.co/wVcUtN8c5b\n",
      "6\t: RT @SalmanKhanHolic: ★ BELOVED Superstar …#SalmanKhan with Fans, Vishwaraj, Kishore, Sakshi and more at Location of #Dabangg3 in Phaltan (…\n",
      "7\t: RT @saminaUFshaikh: I’ve tried proposing You for marriage many a times on Twitter, you’ve not reciprocated...Face to face I don’t have the…\n",
      "8\t: RT @Mr_Salmankhan_: @BeingSalmanKhan\n",
      "The First Film Of SALMAN KHAN Crossed 200+ Crore In Box Office! 😈 My favourite movie till date, the ic…\n",
      "9\t: RT @SalmanKhanHolic: ★ #SalmanKhan On IS:  Wishing u d Best for the launch of your Channel Jacqueline …\n",
      "\n",
      "Salman Khan Wished #JacquelineFern…\n",
      "10\t: You are My Love| Partner | Salman Khan https://t.co/yXJMskSzMk\n",
      "\n",
      "\t\tNegative Tweets\n",
      "1\t: omg my mom is watching nai nabhannu la five and this movie has legit the worst dialogues \n",
      "\n",
      "this girl was just like… https://t.co/dcUdWAzWJe\n",
      "2\t: Salman Khan says no woman has proposed marriage to him: Feel sad that I haven't been ... - https://t.co/lUIJ3c5ySD #GoogleAlerts\n",
      "3\t: RT @iLoveHR24: @ihrithik always praising for other bollywood actor movies. but u will never see 3 KHANS @iamsrk @aamir_khan @BeingSalmanKha…\n",
      "4\t: BUT U WERE WITH SALMAN KHAN OF BOLLYWOOD PLUS in very last i saw this too THAT @BeingSalmanKhan GIVES A VERY SLIGHT… https://t.co/w8rBPABCbB\n",
      "5\t: RT @htshowbiz: Salman Khan says no woman has ever proposed marriage to him: ‘I feel sad I haven’t been approached’\n",
      "\n",
      "https://t.co/Tyh6iNi1ZS…\n",
      "6\t: @sidharthfanpage Yes, Sid should clarify all this mess because the news about his entry into BB doesn’t stop...but… https://t.co/1zUNIooa8G\n",
      "7\t: Akshay Kumar Schemeposting has been shut down so moving to Salman Khan Bhaiposting!\n"
     ]
    },
    {
     "ename": "IndexError",
     "evalue": "list index out of range",
     "output_type": "error",
     "traceback": [
      "\u001b[0;31m---------------------------------------------------------------------------\u001b[0m",
      "\u001b[0;31mIndexError\u001b[0m                                Traceback (most recent call last)",
      "\u001b[0;32m<ipython-input-40-972361fa1b80>\u001b[0m in \u001b[0;36m<module>\u001b[0;34m\u001b[0m\n\u001b[1;32m      1\u001b[0m \u001b[0;32mif\u001b[0m \u001b[0m__name__\u001b[0m \u001b[0;34m==\u001b[0m \u001b[0;34m\"__main__\"\u001b[0m\u001b[0;34m:\u001b[0m\u001b[0;34m\u001b[0m\u001b[0;34m\u001b[0m\u001b[0m\n\u001b[0;32m----> 2\u001b[0;31m     \u001b[0mmain\u001b[0m\u001b[0;34m(\u001b[0m\u001b[0;34m)\u001b[0m\u001b[0;34m\u001b[0m\u001b[0;34m\u001b[0m\u001b[0m\n\u001b[0m",
      "\u001b[0;32m<ipython-input-39-b30884939fcd>\u001b[0m in \u001b[0;36mmain\u001b[0;34m()\u001b[0m\n\u001b[1;32m     23\u001b[0m     \u001b[0mprint\u001b[0m\u001b[0;34m(\u001b[0m\u001b[0;34m\"\\n\\t\\tNegative Tweets\"\u001b[0m\u001b[0;34m)\u001b[0m\u001b[0;34m\u001b[0m\u001b[0;34m\u001b[0m\u001b[0m\n\u001b[1;32m     24\u001b[0m     \u001b[0;32mfor\u001b[0m \u001b[0mi\u001b[0m \u001b[0;32min\u001b[0m \u001b[0mrange\u001b[0m\u001b[0;34m(\u001b[0m\u001b[0;36m10\u001b[0m\u001b[0;34m)\u001b[0m\u001b[0;34m:\u001b[0m \u001b[0;31m#only printing first 10\u001b[0m\u001b[0;34m\u001b[0m\u001b[0;34m\u001b[0m\u001b[0m\n\u001b[0;32m---> 25\u001b[0;31m         \u001b[0mprint\u001b[0m\u001b[0;34m(\u001b[0m\u001b[0mstr\u001b[0m\u001b[0;34m(\u001b[0m\u001b[0mi\u001b[0m\u001b[0;34m+\u001b[0m\u001b[0;36m1\u001b[0m\u001b[0;34m)\u001b[0m \u001b[0;34m+\u001b[0m \u001b[0;34m\"\\t: \"\u001b[0m \u001b[0;34m+\u001b[0m \u001b[0mnegative_tweets\u001b[0m\u001b[0;34m[\u001b[0m\u001b[0mi\u001b[0m\u001b[0;34m]\u001b[0m\u001b[0;34m[\u001b[0m\u001b[0;34m'body'\u001b[0m\u001b[0;34m]\u001b[0m\u001b[0;34m)\u001b[0m\u001b[0;34m\u001b[0m\u001b[0;34m\u001b[0m\u001b[0m\n\u001b[0m\u001b[1;32m     26\u001b[0m     \u001b[0mprint\u001b[0m\u001b[0;34m(\u001b[0m\u001b[0;34m\"\\n\\t\\tNeutral Tweets\"\u001b[0m\u001b[0;34m)\u001b[0m\u001b[0;34m\u001b[0m\u001b[0;34m\u001b[0m\u001b[0m\n\u001b[1;32m     27\u001b[0m     \u001b[0;32mfor\u001b[0m \u001b[0mi\u001b[0m \u001b[0;32min\u001b[0m \u001b[0mrange\u001b[0m\u001b[0;34m(\u001b[0m\u001b[0;36m10\u001b[0m\u001b[0;34m)\u001b[0m\u001b[0;34m:\u001b[0m \u001b[0;31m#only printing first 10\u001b[0m\u001b[0;34m\u001b[0m\u001b[0;34m\u001b[0m\u001b[0m\n",
      "\u001b[0;31mIndexError\u001b[0m: list index out of range"
     ]
    }
   ],
   "source": [
    "main()"
   ]
  },
  {
   "cell_type": "code",
   "execution_count": 51,
   "metadata": {},
   "outputs": [],
   "source": [
    "x = re.compile(r\"\"\"\n",
    "        (@\\w+) | \n",
    "        ([^\\w]) | \n",
    "        (\\w+://\\S+)\n",
    "        \"\"\", re.VERBOSE)"
   ]
  },
  {
   "cell_type": "code",
   "execution_count": 52,
   "metadata": {},
   "outputs": [
    {
     "data": {
      "text/plain": [
       "<re.Match object; span=(0, 5), match='@hell'>"
      ]
     },
     "execution_count": 52,
     "metadata": {},
     "output_type": "execute_result"
    }
   ],
   "source": [
    "y = \"@hell what'sup guys? check this out https://www.sinh.com. Bye bye\"\n",
    "z = x.search(y)\n",
    "z"
   ]
  },
  {
   "cell_type": "code",
   "execution_count": 53,
   "metadata": {},
   "outputs": [
    {
     "data": {
      "text/plain": [
       "'  what sup guys  check this out   Bye bye'"
      ]
     },
     "execution_count": 53,
     "metadata": {},
     "output_type": "execute_result"
    }
   ],
   "source": [
    "a = x.sub(\" \", y)\n",
    "a"
   ]
  },
  {
   "cell_type": "code",
   "execution_count": 54,
   "metadata": {},
   "outputs": [
    {
     "data": {
      "text/plain": [
       "' what sup guys check this out Bye bye'"
      ]
     },
     "execution_count": 54,
     "metadata": {},
     "output_type": "execute_result"
    }
   ],
   "source": [
    "b = re.sub(r\"[\\s]+\", \" \", a)\n",
    "b"
   ]
  },
  {
   "cell_type": "code",
   "execution_count": 58,
   "metadata": {},
   "outputs": [
    {
     "data": {
      "text/plain": [
       "'what sup guys check this out Bye bye'"
      ]
     },
     "execution_count": 58,
     "metadata": {},
     "output_type": "execute_result"
    }
   ],
   "source": [
    "c = b.split()\n",
    "d = \" \".join(c)\n",
    "d"
   ]
  },
  {
   "cell_type": "code",
   "execution_count": 2,
   "metadata": {},
   "outputs": [
    {
     "data": {
      "text/plain": [
       "0.39744254363227927"
      ]
     },
     "execution_count": 2,
     "metadata": {},
     "output_type": "execute_result"
    }
   ],
   "source": [
    "a = 100*23/5787\n",
    "a"
   ]
  },
  {
   "cell_type": "code",
   "execution_count": 8,
   "metadata": {},
   "outputs": [
    {
     "name": "stdout",
     "output_type": "stream",
     "text": [
      "Print this shit 0.397%\n"
     ]
    }
   ],
   "source": [
    "print(\"Print this shit {:0.3f}%\".format(a))"
   ]
  }
 ],
 "metadata": {
  "kernelspec": {
   "display_name": "Python 3",
   "language": "python",
   "name": "python3"
  },
  "language_info": {
   "codemirror_mode": {
    "name": "ipython",
    "version": 3
   },
   "file_extension": ".py",
   "mimetype": "text/x-python",
   "name": "python",
   "nbconvert_exporter": "python",
   "pygments_lexer": "ipython3",
   "version": "3.7.3"
  }
 },
 "nbformat": 4,
 "nbformat_minor": 2
}
